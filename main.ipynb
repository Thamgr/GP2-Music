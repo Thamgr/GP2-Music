{
 "cells": [
  {
   "cell_type": "code",
   "execution_count": null,
   "metadata": {
    "vscode": {
     "languageId": "plaintext"
    }
   },
   "outputs": [],
   "source": [
    "from api import LastFMApi\n",
    "from scraping import GenreScraper\n",
    "\n",
    "import requests\n",
    "import pandas as pd\n",
    "import time\n",
    "import tqdm\n",
    "import re\n",
    "from bs4 import BeautifulSoup\n",
    "import logging\n",
    "from importlib import reload\n",
    "\n",
    "reload(logging)\n",
    "logging.basicConfig(format='%(asctime)s %(levelname)s:%(message)s', level=logging.DEBUG, datefmt='%I:%M:%S', filename='log.log)"
   ]
  },
  {
   "cell_type": "code",
   "execution_count": null,
   "metadata": {
    "vscode": {
     "languageId": "plaintext"
    }
   },
   "outputs": [],
   "source": [
    "api = LastFMApi()\n",
    "scraper = GenreScraper(verbose=False)\n",
    "\n",
    "top_world_tracks = api.get_top_chart()\n",
    "top_russia_tracks = api.get_top_chart_by_country('russian federation')\n",
    "\n",
    "all_tracks = top_world_tracks + top_russia_tracks"
   ]
  },
  {
   "cell_type": "code",
   "execution_count": null,
   "metadata": {
    "vscode": {
     "languageId": "plaintext"
    }
   },
   "outputs": [],
   "source": [
    "data_for_df = []\n",
    "\n",
    "for i in tqdm.tqdm(range(len(all_tracks))):\n",
    "\n",
    "    track = all_tracks[i]\n",
    "    track_info = api.get_track_info(track['artist'], track['track_name'])\n",
    "    album_info = api.get_album_info(track['artist'], track_info['album'])\n",
    "    tag_info = api.get_tag_info(track_info['toptag'])\n",
    "    tag_popularity = scraper.get_genre_popularity_by_decade(track_info['toptag'], album_info['decade'], weighted=1)\n",
    "\n",
    "    track_data = {'title': track['track_name'],\n",
    "                'artist': track['artist'],\n",
    "                'album': album_info['name'],\n",
    "                'decade': album_info['decade'],\n",
    "                'genre': track_info['toptag'],\n",
    "                'listeners': track['listeners'],\n",
    "                'playcount': track_info['playcount'],\n",
    "                'genre_summary': tag_info['tag_summary'],\n",
    "                'genre_popularity': tag_popularity}\n",
    "\n",
    "    data_for_df.append(track_data)"
   ]
  },
  {
   "cell_type": "code",
   "execution_count": null,
   "metadata": {},
   "outputs": [],
   "source": [
    "import json\n",
    "with open('data_for_df.json', 'w') as file:\n",
    "    json.dump(data_for_df, file)"
   ]
  },
  {
   "cell_type": "code",
   "execution_count": null,
   "metadata": {},
   "outputs": [],
   "source": [
    "import pandas as pd\n",
    "\n",
    "df = pd.DataFrame(data_for_df)\n",
    "df.to_csv('data_100p.csv', index=False)"
   ]
  }
 ],
 "metadata": {
  "language_info": {
   "name": "python"
  }
 },
 "nbformat": 4,
 "nbformat_minor": 2
}
